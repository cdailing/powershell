{
  "nbformat": 4,
  "nbformat_minor": 0,
  "metadata": {
    "colab": {
      "provenance": [],
      "authorship_tag": "ABX9TyMQ35z8UZuFjVGR1Xw/o50N",
      "include_colab_link": true
    },
    "kernelspec": {
      "name": "python3",
      "display_name": "Python 3"
    },
    "language_info": {
      "name": "python"
    }
  },
  "cells": [
    {
      "cell_type": "markdown",
      "metadata": {
        "id": "view-in-github",
        "colab_type": "text"
      },
      "source": [
        "<a href=\"https://colab.research.google.com/github/cdailing/powershell/blob/master/Untitled3.ipynb\" target=\"_parent\"><img src=\"https://colab.research.google.com/assets/colab-badge.svg\" alt=\"Open In Colab\"/></a>"
      ]
    },
    {
      "cell_type": "markdown",
      "source": [
        "Write a python fuction called sum() that calculates the sum of all the numbers in a list.\n"
      ],
      "metadata": {
        "id": "qiP7VFOySjkU"
      }
    },
    {
      "cell_type": "code",
      "execution_count": null,
      "metadata": {
        "id": "GVgk9eXBSLNr"
      },
      "outputs": [],
      "source": [
        "Example 1\n",
        "Input: l = [1, 2, 3, 4, 5]\n",
        "Result: 15\n",
        "\n",
        "Example 2\n",
        "Input: l = [-1, 2, 1]\n",
        "Result: 2"
      ]
    },
    {
      "cell_type": "code",
      "source": [
        "def sum(l):\n",
        " x = 0\n",
        " for i in l:\n",
        "    x = i + x\n",
        "\n",
        " return x\n",
        "\n",
        "l = [1,2,3,4,5]\n",
        "\n",
        "result = sum(l)\n",
        "\n",
        "print(result)\n"
      ],
      "metadata": {
        "colab": {
          "base_uri": "https://localhost:8080/"
        },
        "id": "dyQEc_WxS5Y0",
        "outputId": "28be9442-6e61-4a36-b1f3-167fe165f37d"
      },
      "execution_count": null,
      "outputs": [
        {
          "output_type": "stream",
          "name": "stdout",
          "text": [
            "15\n"
          ]
        }
      ]
    },
    {
      "cell_type": "code",
      "source": [
        "def sum(numbers):\n",
        "  total = 0\n",
        "  for item in numbers:\n",
        "    total = total + item\n",
        "    print(total)\n",
        "\n",
        "  return total\n",
        "\n",
        "numbers = [9, 10, 42, -1723, 831]\n",
        "\n",
        "result = sum(numbers)\n",
        "print(result)\n"
      ],
      "metadata": {
        "colab": {
          "base_uri": "https://localhost:8080/"
        },
        "id": "coaXvQiOabhV",
        "outputId": "d6294fe9-1748-41f8-caec-28e9f38b97f5"
      },
      "execution_count": null,
      "outputs": [
        {
          "output_type": "stream",
          "name": "stdout",
          "text": [
            "9\n",
            "19\n",
            "61\n",
            "-1662\n",
            "-831\n",
            "-831\n"
          ]
        }
      ]
    },
    {
      "cell_type": "code",
      "source": [
        "def vowel_detective(word):\n",
        "  vowels = [\"a\",\"e\",\"i\",\"o\",\"u\"]\n",
        "  has_vowel = False\n",
        "  vowel_count = 0\n",
        "  found_vowels = []\n",
        "  word_length = len(word)\n",
        "\n",
        "  for letter in word:\n",
        "    for vowel in vowels:\n",
        "      if letter == vowel:\n",
        "        has_vowel = True\n",
        "        vowel_count = vowel_count + 1\n",
        "        found_vowels.append(vowel)\n",
        "      else:\n",
        "        pass\n",
        "\n",
        "  percentage_of_vowels = vowel_count/word_length\n",
        "\n",
        "  return {\"has_vowel\":has_vowel,\"vowel_count\":vowel_count,\"found_vowels\":found_vowels}\n",
        "\n",
        "result = vowel_detective(\"cheesetastic\")\n",
        "print(result)\n"
      ],
      "metadata": {
        "colab": {
          "base_uri": "https://localhost:8080/"
        },
        "id": "-qN8lN-geRKN",
        "outputId": "8a7d268a-a6cb-40cc-ca9f-c6f268bf3ac7"
      },
      "execution_count": null,
      "outputs": [
        {
          "output_type": "stream",
          "name": "stdout",
          "text": [
            "{'has_vowel': True, 'vowel_count': 5, 'found_vowels': ['e', 'e', 'e', 'a', 'i']}\n"
          ]
        }
      ]
    },
    {
      "cell_type": "code",
      "source": [
        "cipher = {\"A\":\"Z\",\n",
        "          \"B\":\"Y\",\n",
        "          \"C\":\"X\",\n",
        "          \"D\":\"W\",\n",
        "          \"E\":\"V\",\n",
        "          \"F\":\"U\",\n",
        "          \"G\":\"T\",\n",
        "          \"H\":\"S\",\n",
        "          \"I\":\"R\",\n",
        "          \"J\":\"Q\",\n",
        "          \"K\":\"P\",\n",
        "          \"L\":\"O\",\n",
        "          \"M\":\"N\",\n",
        "          \"N\":\"M\",\n",
        "          \"O\":\"L\",\n",
        "          \"P\":\"K\",\n",
        "          \"Q\":\"J\",\n",
        "          \"R\":\"I\",\n",
        "          \"S\":\"H\",\n",
        "          \"T\":\"G\",\n",
        "          \"U\":\"F\",\n",
        "          \"V\":\"E\",\n",
        "          \"W\":\"D\",\n",
        "          \"X\":\"C\",\n",
        "          \"Y\":\"B\",\n",
        "          \"Z\":\"A\"\n",
        "          }"
      ],
      "metadata": {
        "id": "ryKFO8AslMZU"
      },
      "execution_count": null,
      "outputs": []
    },
    {
      "cell_type": "code",
      "source": [],
      "metadata": {
        "id": "0tiyt5nHmnpm"
      },
      "execution_count": null,
      "outputs": []
    }
  ]
}